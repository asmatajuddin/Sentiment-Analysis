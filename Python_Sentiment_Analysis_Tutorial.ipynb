{
  "nbformat": 4,
  "nbformat_minor": 0,
  "metadata": {
    "colab": {
      "provenance": []
    },
    "kernelspec": {
      "name": "python3",
      "display_name": "Python 3"
    },
    "language_info": {
      "name": "python"
    }
  },
  "cells": [
    {
      "cell_type": "markdown",
      "source": [
        "Python Sentiment Analysis Tutorial"
      ],
      "metadata": {
        "id": "OXeik1GhR3hJ"
      }
    },
    {
      "cell_type": "code",
      "source": [
        "python -m nltk.downloader all\n"
      ],
      "metadata": {
        "id": "O18Wy6chR5Dj"
      },
      "execution_count": null,
      "outputs": []
    },
    {
      "cell_type": "code",
      "source": [
        "# Load and prepare the dataset\n",
        "import nltk\n",
        "from nltk.corpus import movie_reviews\n",
        "import random\n",
        "\n",
        "documents = [(list(movie_reviews.words(fileid)), category)\n",
        "              for category in movie_reviews.categories()\n",
        "              for fileid in movie_reviews.fileids(category)]\n",
        "\n",
        "random.shuffle(documents)\n",
        "\n"
      ],
      "metadata": {
        "id": "N8lqPl0VR946"
      },
      "execution_count": null,
      "outputs": []
    },
    {
      "cell_type": "code",
      "source": [
        "# Define the feature extractor\n",
        "\n",
        "all_words = nltk.FreqDist(w.lower() for w in movie_reviews.words())\n",
        "word_features = list(all_words)[:2000]\n",
        "\n",
        "def document_features(document):\n",
        "    document_words = set(document)\n",
        "    features = {}\n",
        "    for word in word_features:\n",
        "        features['contains({})'.format(word)] = (word in document_words)\n",
        "    return features\n"
      ],
      "metadata": {
        "id": "2viuFsISSAPw"
      },
      "execution_count": null,
      "outputs": []
    },
    {
      "cell_type": "code",
      "source": [
        "# Train Naive Bayes classifier\n",
        "featuresets = [(document_features(d), c) for (d,c) in documents]\n",
        "train_set, test_set = featuresets[100:], featuresets[:100]\n",
        "classifier = nltk.NaiveBayesClassifier.train(train_set)\n"
      ],
      "metadata": {
        "id": "5_0ohQhqSB-P"
      },
      "execution_count": null,
      "outputs": []
    },
    {
      "cell_type": "code",
      "source": [
        "# Test the classifier\n",
        "print(nltk.classify.accuracy(classifier, test_set))\n"
      ],
      "metadata": {
        "id": "Eb6EbESsSD01"
      },
      "execution_count": null,
      "outputs": []
    },
    {
      "cell_type": "code",
      "source": [
        "# Show the most important features as interpreted by Naive Bayes\n",
        "classifier.show_most_informative_features(5)\n"
      ],
      "metadata": {
        "id": "-7e0eRSXSIG0"
      },
      "execution_count": null,
      "outputs": []
    }
  ]
}